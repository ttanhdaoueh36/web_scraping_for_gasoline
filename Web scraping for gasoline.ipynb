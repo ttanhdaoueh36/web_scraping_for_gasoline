{
 "cells": [
  {
   "cell_type": "markdown",
   "source": [
    "### Scraping from Trading Economics\n",
    "Result: daily global gasoline price"
   ],
   "metadata": {
    "collapsed": false,
    "pycharm": {
     "name": "#%% md\n"
    }
   }
  },
  {
   "cell_type": "code",
   "execution_count": 1,
   "outputs": [
    {
     "data": {
      "text/plain": "                                               Energy     Price     Day  \\\n0   Crude Oil  USD/Bbl \\r                         ...   102.910   0.370   \n1   Brent  USD/Bbl \\r                             ...    107.19    0.34   \n2   Natural gas  USD/MMBtu  \\r                    ...    6.1140  0.4020   \n3   Gasoline  USD/Gal \\r                          ...    3.1664  0.0317   \n4   Heating Oil  USD/Gal \\r                       ...    3.4632  0.0829   \n5   Coal  USD/T \\r                                ...    264.00    5.25   \n6   Ethanol  USD/Gal \\r                           ...    2.3700  0.0050   \n7   Naphtha  USD/T \\r                             ...    931.29   22.80   \n8   Propane  USD/Gal \\r                           ...      1.36    0.01   \n9   Uranium  USD/Lbs \\r                           ...   59.7000  1.1000   \n10  Methanol  CNY \\r                              ...   2884.00   27.00   \n11  TTF Gas  EUR \\r                               ...    106.95    2.57   \n12  UK Gas  GBp \\r                                ...  236.0000  8.0600   \n\n         %   Weekly  Monthly      YoY    Date  \n0   -0.36%   -1.28%  -11.13%   73.45%  Apr/05  \n1   -0.32%   -0.48%   -9.83%   70.85%  Apr/05  \n2    7.04%   14.71%   26.51%  148.94%  Apr/05  \n3   -0.99%   -0.32%  -10.26%   61.03%  Apr/05  \n4   -2.34%    2.18%   -6.60%   93.03%  Apr/05  \n5    2.03%    1.15%  -37.54%  173.58%  Apr/04  \n6   -0.21%   -4.44%   -6.88%   24.08%  Apr/04  \n7    2.51%   -6.64%  -15.56%   72.00%  Apr/04  \n8   -0.81%   -5.27%  -14.95%   41.90%  Apr/04  \n9    1.88%    0.84%   15.92%   91.65%  Apr/04  \n10  -0.93%   -5.19%   -0.65%   21.74%  Apr/01  \n11  -2.35%   -1.32%  -52.93%  440.67%  Apr/05  \n12  -3.30%  -10.41%  -56.26%  381.93%  Apr/05  ",
      "text/html": "<div>\n<style scoped>\n    .dataframe tbody tr th:only-of-type {\n        vertical-align: middle;\n    }\n\n    .dataframe tbody tr th {\n        vertical-align: top;\n    }\n\n    .dataframe thead th {\n        text-align: right;\n    }\n</style>\n<table border=\"1\" class=\"dataframe\">\n  <thead>\n    <tr style=\"text-align: right;\">\n      <th></th>\n      <th>Energy</th>\n      <th>Price</th>\n      <th>Day</th>\n      <th>%</th>\n      <th>Weekly</th>\n      <th>Monthly</th>\n      <th>YoY</th>\n      <th>Date</th>\n    </tr>\n  </thead>\n  <tbody>\n    <tr>\n      <th>0</th>\n      <td>Crude Oil  USD/Bbl \\r                         ...</td>\n      <td>102.910</td>\n      <td>0.370</td>\n      <td>-0.36%</td>\n      <td>-1.28%</td>\n      <td>-11.13%</td>\n      <td>73.45%</td>\n      <td>Apr/05</td>\n    </tr>\n    <tr>\n      <th>1</th>\n      <td>Brent  USD/Bbl \\r                             ...</td>\n      <td>107.19</td>\n      <td>0.34</td>\n      <td>-0.32%</td>\n      <td>-0.48%</td>\n      <td>-9.83%</td>\n      <td>70.85%</td>\n      <td>Apr/05</td>\n    </tr>\n    <tr>\n      <th>2</th>\n      <td>Natural gas  USD/MMBtu  \\r                    ...</td>\n      <td>6.1140</td>\n      <td>0.4020</td>\n      <td>7.04%</td>\n      <td>14.71%</td>\n      <td>26.51%</td>\n      <td>148.94%</td>\n      <td>Apr/05</td>\n    </tr>\n    <tr>\n      <th>3</th>\n      <td>Gasoline  USD/Gal \\r                          ...</td>\n      <td>3.1664</td>\n      <td>0.0317</td>\n      <td>-0.99%</td>\n      <td>-0.32%</td>\n      <td>-10.26%</td>\n      <td>61.03%</td>\n      <td>Apr/05</td>\n    </tr>\n    <tr>\n      <th>4</th>\n      <td>Heating Oil  USD/Gal \\r                       ...</td>\n      <td>3.4632</td>\n      <td>0.0829</td>\n      <td>-2.34%</td>\n      <td>2.18%</td>\n      <td>-6.60%</td>\n      <td>93.03%</td>\n      <td>Apr/05</td>\n    </tr>\n    <tr>\n      <th>5</th>\n      <td>Coal  USD/T \\r                                ...</td>\n      <td>264.00</td>\n      <td>5.25</td>\n      <td>2.03%</td>\n      <td>1.15%</td>\n      <td>-37.54%</td>\n      <td>173.58%</td>\n      <td>Apr/04</td>\n    </tr>\n    <tr>\n      <th>6</th>\n      <td>Ethanol  USD/Gal \\r                           ...</td>\n      <td>2.3700</td>\n      <td>0.0050</td>\n      <td>-0.21%</td>\n      <td>-4.44%</td>\n      <td>-6.88%</td>\n      <td>24.08%</td>\n      <td>Apr/04</td>\n    </tr>\n    <tr>\n      <th>7</th>\n      <td>Naphtha  USD/T \\r                             ...</td>\n      <td>931.29</td>\n      <td>22.80</td>\n      <td>2.51%</td>\n      <td>-6.64%</td>\n      <td>-15.56%</td>\n      <td>72.00%</td>\n      <td>Apr/04</td>\n    </tr>\n    <tr>\n      <th>8</th>\n      <td>Propane  USD/Gal \\r                           ...</td>\n      <td>1.36</td>\n      <td>0.01</td>\n      <td>-0.81%</td>\n      <td>-5.27%</td>\n      <td>-14.95%</td>\n      <td>41.90%</td>\n      <td>Apr/04</td>\n    </tr>\n    <tr>\n      <th>9</th>\n      <td>Uranium  USD/Lbs \\r                           ...</td>\n      <td>59.7000</td>\n      <td>1.1000</td>\n      <td>1.88%</td>\n      <td>0.84%</td>\n      <td>15.92%</td>\n      <td>91.65%</td>\n      <td>Apr/04</td>\n    </tr>\n    <tr>\n      <th>10</th>\n      <td>Methanol  CNY \\r                              ...</td>\n      <td>2884.00</td>\n      <td>27.00</td>\n      <td>-0.93%</td>\n      <td>-5.19%</td>\n      <td>-0.65%</td>\n      <td>21.74%</td>\n      <td>Apr/01</td>\n    </tr>\n    <tr>\n      <th>11</th>\n      <td>TTF Gas  EUR \\r                               ...</td>\n      <td>106.95</td>\n      <td>2.57</td>\n      <td>-2.35%</td>\n      <td>-1.32%</td>\n      <td>-52.93%</td>\n      <td>440.67%</td>\n      <td>Apr/05</td>\n    </tr>\n    <tr>\n      <th>12</th>\n      <td>UK Gas  GBp \\r                                ...</td>\n      <td>236.0000</td>\n      <td>8.0600</td>\n      <td>-3.30%</td>\n      <td>-10.41%</td>\n      <td>-56.26%</td>\n      <td>381.93%</td>\n      <td>Apr/05</td>\n    </tr>\n  </tbody>\n</table>\n</div>"
     },
     "execution_count": 1,
     "metadata": {},
     "output_type": "execute_result"
    }
   ],
   "source": [
    "import urllib.request\n",
    "from bs4 import BeautifulSoup\n",
    "import pandas as pd\n",
    "import numpy as np\n",
    "\n",
    "## Request the URL\n",
    "url = \"https://tradingeconomics.com/commodities\"\n",
    "res = urllib.request.urlopen(url)\n",
    "\n",
    "## Read the data into from the url as a string\n",
    "html = res.read()\n",
    "\n",
    "## parse with BeautifulSoup\n",
    "bs = BeautifulSoup(html, \"html.parser\")\n",
    "\n",
    "tables = bs.find_all('table')\n",
    "## Choose the first table\n",
    "table = tables[0]\n",
    "\n",
    "rows = table.find_all(\"tr\")\n",
    "\n",
    "column_names = []\n",
    "header_cells = rows[0].find_all(\"th\")\n",
    "\n",
    "for cell in header_cells:\n",
    "    header = cell.text\n",
    "    header = header.strip()\n",
    "    header = header.replace(\"\\n\", \" \")\n",
    "    column_names.append(header)\n",
    "\n",
    "data = []\n",
    "for row in rows[1:]:\n",
    "    cells = row.find_all(\"td\")\n",
    "\n",
    "    ## create an empty tuple\n",
    "    dt = ()\n",
    "    for cell in cells:\n",
    "        dp = cell.text\n",
    "\n",
    "        dp = dp.strip()\n",
    "        dp = dp.replace(\"\\n\", \" \")\n",
    "\n",
    "        ## add to tuple\n",
    "        dt = dt + (dp,)\n",
    "    data.append(dt)\n",
    "## Import the data into a dataframe\n",
    "df = pd.DataFrame(data, columns = column_names)\n",
    "df\n"
   ],
   "metadata": {
    "collapsed": false,
    "pycharm": {
     "name": "#%%\n"
    }
   }
  },
  {
   "cell_type": "code",
   "execution_count": 2,
   "outputs": [
    {
     "data": {
      "text/plain": "Energy     object\nPrice      object\nDay        object\n%          object\nWeekly     object\nMonthly    object\nYoY        object\nDate       object\ndtype: object"
     },
     "execution_count": 2,
     "metadata": {},
     "output_type": "execute_result"
    }
   ],
   "source": [
    "## Check the data types\n",
    "df.dtypes"
   ],
   "metadata": {
    "collapsed": false,
    "pycharm": {
     "name": "#%%\n"
    }
   }
  },
  {
   "cell_type": "code",
   "execution_count": 3,
   "outputs": [
    {
     "data": {
      "text/plain": "362.1933538461538"
     },
     "execution_count": 3,
     "metadata": {},
     "output_type": "execute_result"
    }
   ],
   "source": [
    "df['Price'] = df['Price'].str.replace(',', '.')\n",
    "df['Price'] = df['Price'].astype(np.float64)\n",
    "df['Price'].mean()"
   ],
   "metadata": {
    "collapsed": false,
    "pycharm": {
     "name": "#%%\n"
    }
   }
  },
  {
   "cell_type": "code",
   "execution_count": 4,
   "outputs": [
    {
     "data": {
      "text/plain": "                                               Energy      Price     Day  \\\n0   Crude Oil  USD/Bbl \\r                         ...   102.9100   0.370   \n1   Brent  USD/Bbl \\r                             ...   107.1900    0.34   \n2   Natural gas  USD/MMBtu  \\r                    ...     6.1140  0.4020   \n3   Gasoline  USD/Gal \\r                          ...     3.1664  0.0317   \n4   Heating Oil  USD/Gal \\r                       ...     3.4632  0.0829   \n5   Coal  USD/T \\r                                ...   264.0000    5.25   \n6   Ethanol  USD/Gal \\r                           ...     2.3700  0.0050   \n7   Naphtha  USD/T \\r                             ...   931.2900   22.80   \n8   Propane  USD/Gal \\r                           ...     1.3600    0.01   \n9   Uranium  USD/Lbs \\r                           ...    59.7000  1.1000   \n10  Methanol  CNY \\r                              ...  2884.0000   27.00   \n11  TTF Gas  EUR \\r                               ...   106.9500    2.57   \n12  UK Gas  GBp \\r                                ...   236.0000  8.0600   \n\n         %   Weekly  Monthly      YoY    Date  \n0   -0.36%   -1.28%  -11.13%   73.45%  Apr/05  \n1   -0.32%   -0.48%   -9.83%   70.85%  Apr/05  \n2    7.04%   14.71%   26.51%  148.94%  Apr/05  \n3   -0.99%   -0.32%  -10.26%   61.03%  Apr/05  \n4   -2.34%    2.18%   -6.60%   93.03%  Apr/05  \n5    2.03%    1.15%  -37.54%  173.58%  Apr/04  \n6   -0.21%   -4.44%   -6.88%   24.08%  Apr/04  \n7    2.51%   -6.64%  -15.56%   72.00%  Apr/04  \n8   -0.81%   -5.27%  -14.95%   41.90%  Apr/04  \n9    1.88%    0.84%   15.92%   91.65%  Apr/04  \n10  -0.93%   -5.19%   -0.65%   21.74%  Apr/01  \n11  -2.35%   -1.32%  -52.93%  440.67%  Apr/05  \n12  -3.30%  -10.41%  -56.26%  381.93%  Apr/05  ",
      "text/html": "<div>\n<style scoped>\n    .dataframe tbody tr th:only-of-type {\n        vertical-align: middle;\n    }\n\n    .dataframe tbody tr th {\n        vertical-align: top;\n    }\n\n    .dataframe thead th {\n        text-align: right;\n    }\n</style>\n<table border=\"1\" class=\"dataframe\">\n  <thead>\n    <tr style=\"text-align: right;\">\n      <th></th>\n      <th>Energy</th>\n      <th>Price</th>\n      <th>Day</th>\n      <th>%</th>\n      <th>Weekly</th>\n      <th>Monthly</th>\n      <th>YoY</th>\n      <th>Date</th>\n    </tr>\n  </thead>\n  <tbody>\n    <tr>\n      <th>0</th>\n      <td>Crude Oil  USD/Bbl \\r                         ...</td>\n      <td>102.9100</td>\n      <td>0.370</td>\n      <td>-0.36%</td>\n      <td>-1.28%</td>\n      <td>-11.13%</td>\n      <td>73.45%</td>\n      <td>Apr/05</td>\n    </tr>\n    <tr>\n      <th>1</th>\n      <td>Brent  USD/Bbl \\r                             ...</td>\n      <td>107.1900</td>\n      <td>0.34</td>\n      <td>-0.32%</td>\n      <td>-0.48%</td>\n      <td>-9.83%</td>\n      <td>70.85%</td>\n      <td>Apr/05</td>\n    </tr>\n    <tr>\n      <th>2</th>\n      <td>Natural gas  USD/MMBtu  \\r                    ...</td>\n      <td>6.1140</td>\n      <td>0.4020</td>\n      <td>7.04%</td>\n      <td>14.71%</td>\n      <td>26.51%</td>\n      <td>148.94%</td>\n      <td>Apr/05</td>\n    </tr>\n    <tr>\n      <th>3</th>\n      <td>Gasoline  USD/Gal \\r                          ...</td>\n      <td>3.1664</td>\n      <td>0.0317</td>\n      <td>-0.99%</td>\n      <td>-0.32%</td>\n      <td>-10.26%</td>\n      <td>61.03%</td>\n      <td>Apr/05</td>\n    </tr>\n    <tr>\n      <th>4</th>\n      <td>Heating Oil  USD/Gal \\r                       ...</td>\n      <td>3.4632</td>\n      <td>0.0829</td>\n      <td>-2.34%</td>\n      <td>2.18%</td>\n      <td>-6.60%</td>\n      <td>93.03%</td>\n      <td>Apr/05</td>\n    </tr>\n    <tr>\n      <th>5</th>\n      <td>Coal  USD/T \\r                                ...</td>\n      <td>264.0000</td>\n      <td>5.25</td>\n      <td>2.03%</td>\n      <td>1.15%</td>\n      <td>-37.54%</td>\n      <td>173.58%</td>\n      <td>Apr/04</td>\n    </tr>\n    <tr>\n      <th>6</th>\n      <td>Ethanol  USD/Gal \\r                           ...</td>\n      <td>2.3700</td>\n      <td>0.0050</td>\n      <td>-0.21%</td>\n      <td>-4.44%</td>\n      <td>-6.88%</td>\n      <td>24.08%</td>\n      <td>Apr/04</td>\n    </tr>\n    <tr>\n      <th>7</th>\n      <td>Naphtha  USD/T \\r                             ...</td>\n      <td>931.2900</td>\n      <td>22.80</td>\n      <td>2.51%</td>\n      <td>-6.64%</td>\n      <td>-15.56%</td>\n      <td>72.00%</td>\n      <td>Apr/04</td>\n    </tr>\n    <tr>\n      <th>8</th>\n      <td>Propane  USD/Gal \\r                           ...</td>\n      <td>1.3600</td>\n      <td>0.01</td>\n      <td>-0.81%</td>\n      <td>-5.27%</td>\n      <td>-14.95%</td>\n      <td>41.90%</td>\n      <td>Apr/04</td>\n    </tr>\n    <tr>\n      <th>9</th>\n      <td>Uranium  USD/Lbs \\r                           ...</td>\n      <td>59.7000</td>\n      <td>1.1000</td>\n      <td>1.88%</td>\n      <td>0.84%</td>\n      <td>15.92%</td>\n      <td>91.65%</td>\n      <td>Apr/04</td>\n    </tr>\n    <tr>\n      <th>10</th>\n      <td>Methanol  CNY \\r                              ...</td>\n      <td>2884.0000</td>\n      <td>27.00</td>\n      <td>-0.93%</td>\n      <td>-5.19%</td>\n      <td>-0.65%</td>\n      <td>21.74%</td>\n      <td>Apr/01</td>\n    </tr>\n    <tr>\n      <th>11</th>\n      <td>TTF Gas  EUR \\r                               ...</td>\n      <td>106.9500</td>\n      <td>2.57</td>\n      <td>-2.35%</td>\n      <td>-1.32%</td>\n      <td>-52.93%</td>\n      <td>440.67%</td>\n      <td>Apr/05</td>\n    </tr>\n    <tr>\n      <th>12</th>\n      <td>UK Gas  GBp \\r                                ...</td>\n      <td>236.0000</td>\n      <td>8.0600</td>\n      <td>-3.30%</td>\n      <td>-10.41%</td>\n      <td>-56.26%</td>\n      <td>381.93%</td>\n      <td>Apr/05</td>\n    </tr>\n  </tbody>\n</table>\n</div>"
     },
     "execution_count": 4,
     "metadata": {},
     "output_type": "execute_result"
    }
   ],
   "source": [
    "df"
   ],
   "metadata": {
    "collapsed": false,
    "pycharm": {
     "name": "#%%\n"
    }
   }
  },
  {
   "cell_type": "code",
   "execution_count": 5,
   "outputs": [],
   "source": [
    "df.to_csv(\"price_Apr_05.csv\")"
   ],
   "metadata": {
    "collapsed": false,
    "pycharm": {
     "name": "#%%\n"
    }
   }
  }
 ],
 "metadata": {
  "kernelspec": {
   "display_name": "Python 3",
   "language": "python",
   "name": "python3"
  },
  "language_info": {
   "codemirror_mode": {
    "name": "ipython",
    "version": 2
   },
   "file_extension": ".py",
   "mimetype": "text/x-python",
   "name": "python",
   "nbconvert_exporter": "python",
   "pygments_lexer": "ipython2",
   "version": "2.7.6"
  }
 },
 "nbformat": 4,
 "nbformat_minor": 0
}